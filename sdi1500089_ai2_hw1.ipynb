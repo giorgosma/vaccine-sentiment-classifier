{
  "nbformat": 4,
  "nbformat_minor": 0,
  "metadata": {
    "colab": {
      "name": "sdi1500089_ai2_hw1.ipynb",
      "provenance": [],
      "collapsed_sections": []
    },
    "kernelspec": {
      "name": "python3",
      "display_name": "Python 3"
    },
    "language_info": {
      "name": "python"
    }
  },
  "cells": [
    {
      "cell_type": "markdown",
      "metadata": {
        "id": "IoiNJDQ8jlcw"
      },
      "source": [
        "# <center>Artificial Intelligence II: HW1 / Fall Semester 2021 - 2022</center>\n",
        "## <center>Μαραγκοζάκης Γεώργιος - 1115201500089</center>"
      ]
    },
    {
      "cell_type": "markdown",
      "metadata": {
        "id": "b5PwFtsVl3Lf"
      },
      "source": [
        "# Do all the necessary imports for this notebook\n"
      ]
    },
    {
      "cell_type": "code",
      "metadata": {
        "id": "bwHbIgsOk519"
      },
      "source": [
        "import pandas as pd\n",
        "import numpy as np\n",
        "\n",
        "# vectorization\n",
        "from sklearn.feature_extraction.text import CountVectorizer, HashingVectorizer, TfidfVectorizer\n",
        "\n",
        "# classification\n",
        "from sklearn import preprocessing\n",
        "from sklearn.linear_model import LogisticRegression\n",
        "from sklearn.metrics import classification_report, make_scorer, accuracy_score, \\\n",
        "                            precision_score, recall_score, f1_score, roc_curve, auc,\\\n",
        "                            roc_auc_score, plot_roc_curve\n",
        "                          \n",
        "# learning curve\n",
        "import matplotlib.pyplot as plt\n",
        "from sklearn.model_selection import learning_curve"
      ],
      "execution_count": 26,
      "outputs": []
    },
    {
      "cell_type": "markdown",
      "metadata": {
        "id": "lZLGHWR8lfxR"
      },
      "source": [
        "# Dataset Preprocessing"
      ]
    },
    {
      "cell_type": "code",
      "metadata": {
        "colab": {
          "base_uri": "https://localhost:8080/",
          "height": 423
        },
        "id": "RTx0Em35lcpf",
        "outputId": "4978bd77-ee51-43b9-cd1a-ffc793ed84a5"
      },
      "source": [
        "trainDf = pd.read_csv('./vaccine_train_set.csv')\n",
        "trainDf"
      ],
      "execution_count": 27,
      "outputs": [
        {
          "output_type": "execute_result",
          "data": {
            "text/html": [
              "<div>\n",
              "<style scoped>\n",
              "    .dataframe tbody tr th:only-of-type {\n",
              "        vertical-align: middle;\n",
              "    }\n",
              "\n",
              "    .dataframe tbody tr th {\n",
              "        vertical-align: top;\n",
              "    }\n",
              "\n",
              "    .dataframe thead th {\n",
              "        text-align: right;\n",
              "    }\n",
              "</style>\n",
              "<table border=\"1\" class=\"dataframe\">\n",
              "  <thead>\n",
              "    <tr style=\"text-align: right;\">\n",
              "      <th></th>\n",
              "      <th>Unnamed: 0</th>\n",
              "      <th>tweet</th>\n",
              "      <th>label</th>\n",
              "    </tr>\n",
              "  </thead>\n",
              "  <tbody>\n",
              "    <tr>\n",
              "      <th>0</th>\n",
              "      <td>0</td>\n",
              "      <td>Sip N Shop Come thru right now #Marjais #Popul...</td>\n",
              "      <td>0</td>\n",
              "    </tr>\n",
              "    <tr>\n",
              "      <th>1</th>\n",
              "      <td>1</td>\n",
              "      <td>I don't know about you but My family and I wil...</td>\n",
              "      <td>1</td>\n",
              "    </tr>\n",
              "    <tr>\n",
              "      <th>2</th>\n",
              "      <td>2</td>\n",
              "      <td>@MSignorile Immunizations should be mandatory....</td>\n",
              "      <td>2</td>\n",
              "    </tr>\n",
              "    <tr>\n",
              "      <th>3</th>\n",
              "      <td>3</td>\n",
              "      <td>President Obama spoke in favor of vaccination ...</td>\n",
              "      <td>0</td>\n",
              "    </tr>\n",
              "    <tr>\n",
              "      <th>4</th>\n",
              "      <td>4</td>\n",
              "      <td>\"@myfoxla: Arizona monitoring hundreds for mea...</td>\n",
              "      <td>0</td>\n",
              "    </tr>\n",
              "    <tr>\n",
              "      <th>...</th>\n",
              "      <td>...</td>\n",
              "      <td>...</td>\n",
              "      <td>...</td>\n",
              "    </tr>\n",
              "    <tr>\n",
              "      <th>15971</th>\n",
              "      <td>15971</td>\n",
              "      <td>@Salon if u believe the anti-vax nutcases caus...</td>\n",
              "      <td>1</td>\n",
              "    </tr>\n",
              "    <tr>\n",
              "      <th>15972</th>\n",
              "      <td>15972</td>\n",
              "      <td>How do you feel about parents who don't #vacci...</td>\n",
              "      <td>0</td>\n",
              "    </tr>\n",
              "    <tr>\n",
              "      <th>15973</th>\n",
              "      <td>15973</td>\n",
              "      <td>70 Preschoolers Tested for Measles in Simi Val...</td>\n",
              "      <td>0</td>\n",
              "    </tr>\n",
              "    <tr>\n",
              "      <th>15974</th>\n",
              "      <td>15974</td>\n",
              "      <td>Finance Minister: Budget offers room to procur...</td>\n",
              "      <td>0</td>\n",
              "    </tr>\n",
              "    <tr>\n",
              "      <th>15975</th>\n",
              "      <td>15975</td>\n",
              "      <td>Are you up to date on vaccines? Take CDC’s vac...</td>\n",
              "      <td>2</td>\n",
              "    </tr>\n",
              "  </tbody>\n",
              "</table>\n",
              "<p>15976 rows × 3 columns</p>\n",
              "</div>"
            ],
            "text/plain": [
              "       Unnamed: 0                                              tweet  label\n",
              "0               0  Sip N Shop Come thru right now #Marjais #Popul...      0\n",
              "1               1  I don't know about you but My family and I wil...      1\n",
              "2               2  @MSignorile Immunizations should be mandatory....      2\n",
              "3               3  President Obama spoke in favor of vaccination ...      0\n",
              "4               4  \"@myfoxla: Arizona monitoring hundreds for mea...      0\n",
              "...           ...                                                ...    ...\n",
              "15971       15971  @Salon if u believe the anti-vax nutcases caus...      1\n",
              "15972       15972  How do you feel about parents who don't #vacci...      0\n",
              "15973       15973  70 Preschoolers Tested for Measles in Simi Val...      0\n",
              "15974       15974  Finance Minister: Budget offers room to procur...      0\n",
              "15975       15975  Are you up to date on vaccines? Take CDC’s vac...      2\n",
              "\n",
              "[15976 rows x 3 columns]"
            ]
          },
          "metadata": {},
          "execution_count": 27
        }
      ]
    },
    {
      "cell_type": "markdown",
      "metadata": {
        "id": "rWmJ4PCI_K6P"
      },
      "source": [
        "### Will be replaced by test set"
      ]
    },
    {
      "cell_type": "code",
      "metadata": {
        "colab": {
          "base_uri": "https://localhost:8080/",
          "height": 423
        },
        "id": "M5DiJCcZt0N-",
        "outputId": "85d63785-0101-41bd-a3f9-673e6d8d6c59"
      },
      "source": [
        "validDf = pd.read_csv('./vaccine_validation_set.csv')\n",
        "validDf"
      ],
      "execution_count": 28,
      "outputs": [
        {
          "output_type": "execute_result",
          "data": {
            "text/html": [
              "<div>\n",
              "<style scoped>\n",
              "    .dataframe tbody tr th:only-of-type {\n",
              "        vertical-align: middle;\n",
              "    }\n",
              "\n",
              "    .dataframe tbody tr th {\n",
              "        vertical-align: top;\n",
              "    }\n",
              "\n",
              "    .dataframe thead th {\n",
              "        text-align: right;\n",
              "    }\n",
              "</style>\n",
              "<table border=\"1\" class=\"dataframe\">\n",
              "  <thead>\n",
              "    <tr style=\"text-align: right;\">\n",
              "      <th></th>\n",
              "      <th>Unnamed: 0</th>\n",
              "      <th>tweet</th>\n",
              "      <th>label</th>\n",
              "    </tr>\n",
              "  </thead>\n",
              "  <tbody>\n",
              "    <tr>\n",
              "      <th>0</th>\n",
              "      <td>0</td>\n",
              "      <td>@user They had a massive surge in with covid d...</td>\n",
              "      <td>1</td>\n",
              "    </tr>\n",
              "    <tr>\n",
              "      <th>1</th>\n",
              "      <td>1</td>\n",
              "      <td>Required vaccines for school: Parents and guar...</td>\n",
              "      <td>0</td>\n",
              "    </tr>\n",
              "    <tr>\n",
              "      <th>2</th>\n",
              "      <td>2</td>\n",
              "      <td>“@KCStar: Two more Johnson County children hav...</td>\n",
              "      <td>0</td>\n",
              "    </tr>\n",
              "    <tr>\n",
              "      <th>3</th>\n",
              "      <td>3</td>\n",
              "      <td>NV can do better. Which states are the best (a...</td>\n",
              "      <td>2</td>\n",
              "    </tr>\n",
              "    <tr>\n",
              "      <th>4</th>\n",
              "      <td>4</td>\n",
              "      <td>Nothing like killing ourselves w/ our own fear...</td>\n",
              "      <td>2</td>\n",
              "    </tr>\n",
              "    <tr>\n",
              "      <th>...</th>\n",
              "      <td>...</td>\n",
              "      <td>...</td>\n",
              "      <td>...</td>\n",
              "    </tr>\n",
              "    <tr>\n",
              "      <th>2277</th>\n",
              "      <td>2277</td>\n",
              "      <td>RT @abc7: Number of measles cases reported in ...</td>\n",
              "      <td>0</td>\n",
              "    </tr>\n",
              "    <tr>\n",
              "      <th>2278</th>\n",
              "      <td>2278</td>\n",
              "      <td>Evidence points to the idea that \"measles affe...</td>\n",
              "      <td>0</td>\n",
              "    </tr>\n",
              "    <tr>\n",
              "      <th>2279</th>\n",
              "      <td>2279</td>\n",
              "      <td>Where's @SavedYouAClick \"@voxdotcom: Why you s...</td>\n",
              "      <td>2</td>\n",
              "    </tr>\n",
              "    <tr>\n",
              "      <th>2280</th>\n",
              "      <td>2280</td>\n",
              "      <td>Some of my favorite people have autism. If tha...</td>\n",
              "      <td>2</td>\n",
              "    </tr>\n",
              "    <tr>\n",
              "      <th>2281</th>\n",
              "      <td>2281</td>\n",
              "      <td>Coronavirus: The married couple behind the suc...</td>\n",
              "      <td>0</td>\n",
              "    </tr>\n",
              "  </tbody>\n",
              "</table>\n",
              "<p>2282 rows × 3 columns</p>\n",
              "</div>"
            ],
            "text/plain": [
              "      Unnamed: 0                                              tweet  label\n",
              "0              0  @user They had a massive surge in with covid d...      1\n",
              "1              1  Required vaccines for school: Parents and guar...      0\n",
              "2              2  “@KCStar: Two more Johnson County children hav...      0\n",
              "3              3  NV can do better. Which states are the best (a...      2\n",
              "4              4  Nothing like killing ourselves w/ our own fear...      2\n",
              "...          ...                                                ...    ...\n",
              "2277        2277  RT @abc7: Number of measles cases reported in ...      0\n",
              "2278        2278  Evidence points to the idea that \"measles affe...      0\n",
              "2279        2279  Where's @SavedYouAClick \"@voxdotcom: Why you s...      2\n",
              "2280        2280  Some of my favorite people have autism. If tha...      2\n",
              "2281        2281  Coronavirus: The married couple behind the suc...      0\n",
              "\n",
              "[2282 rows x 3 columns]"
            ]
          },
          "metadata": {},
          "execution_count": 28
        }
      ]
    },
    {
      "cell_type": "markdown",
      "metadata": {
        "id": "TkDN1yfjoHT-"
      },
      "source": [
        "- ### *Convert all comments to lower case*"
      ]
    },
    {
      "cell_type": "code",
      "metadata": {
        "colab": {
          "base_uri": "https://localhost:8080/",
          "height": 423
        },
        "id": "SPaR4ZaDoIUg",
        "outputId": "cfc10a3d-b3ec-41ef-c337-ee2b336fc08d"
      },
      "source": [
        "trainDf['tweet'] = trainDf['tweet'].str.lower()\n",
        "trainDf"
      ],
      "execution_count": 29,
      "outputs": [
        {
          "output_type": "execute_result",
          "data": {
            "text/html": [
              "<div>\n",
              "<style scoped>\n",
              "    .dataframe tbody tr th:only-of-type {\n",
              "        vertical-align: middle;\n",
              "    }\n",
              "\n",
              "    .dataframe tbody tr th {\n",
              "        vertical-align: top;\n",
              "    }\n",
              "\n",
              "    .dataframe thead th {\n",
              "        text-align: right;\n",
              "    }\n",
              "</style>\n",
              "<table border=\"1\" class=\"dataframe\">\n",
              "  <thead>\n",
              "    <tr style=\"text-align: right;\">\n",
              "      <th></th>\n",
              "      <th>Unnamed: 0</th>\n",
              "      <th>tweet</th>\n",
              "      <th>label</th>\n",
              "    </tr>\n",
              "  </thead>\n",
              "  <tbody>\n",
              "    <tr>\n",
              "      <th>0</th>\n",
              "      <td>0</td>\n",
              "      <td>sip n shop come thru right now #marjais #popul...</td>\n",
              "      <td>0</td>\n",
              "    </tr>\n",
              "    <tr>\n",
              "      <th>1</th>\n",
              "      <td>1</td>\n",
              "      <td>i don't know about you but my family and i wil...</td>\n",
              "      <td>1</td>\n",
              "    </tr>\n",
              "    <tr>\n",
              "      <th>2</th>\n",
              "      <td>2</td>\n",
              "      <td>@msignorile immunizations should be mandatory....</td>\n",
              "      <td>2</td>\n",
              "    </tr>\n",
              "    <tr>\n",
              "      <th>3</th>\n",
              "      <td>3</td>\n",
              "      <td>president obama spoke in favor of vaccination ...</td>\n",
              "      <td>0</td>\n",
              "    </tr>\n",
              "    <tr>\n",
              "      <th>4</th>\n",
              "      <td>4</td>\n",
              "      <td>\"@myfoxla: arizona monitoring hundreds for mea...</td>\n",
              "      <td>0</td>\n",
              "    </tr>\n",
              "    <tr>\n",
              "      <th>...</th>\n",
              "      <td>...</td>\n",
              "      <td>...</td>\n",
              "      <td>...</td>\n",
              "    </tr>\n",
              "    <tr>\n",
              "      <th>15971</th>\n",
              "      <td>15971</td>\n",
              "      <td>@salon if u believe the anti-vax nutcases caus...</td>\n",
              "      <td>1</td>\n",
              "    </tr>\n",
              "    <tr>\n",
              "      <th>15972</th>\n",
              "      <td>15972</td>\n",
              "      <td>how do you feel about parents who don't #vacci...</td>\n",
              "      <td>0</td>\n",
              "    </tr>\n",
              "    <tr>\n",
              "      <th>15973</th>\n",
              "      <td>15973</td>\n",
              "      <td>70 preschoolers tested for measles in simi val...</td>\n",
              "      <td>0</td>\n",
              "    </tr>\n",
              "    <tr>\n",
              "      <th>15974</th>\n",
              "      <td>15974</td>\n",
              "      <td>finance minister: budget offers room to procur...</td>\n",
              "      <td>0</td>\n",
              "    </tr>\n",
              "    <tr>\n",
              "      <th>15975</th>\n",
              "      <td>15975</td>\n",
              "      <td>are you up to date on vaccines? take cdc’s vac...</td>\n",
              "      <td>2</td>\n",
              "    </tr>\n",
              "  </tbody>\n",
              "</table>\n",
              "<p>15976 rows × 3 columns</p>\n",
              "</div>"
            ],
            "text/plain": [
              "       Unnamed: 0                                              tweet  label\n",
              "0               0  sip n shop come thru right now #marjais #popul...      0\n",
              "1               1  i don't know about you but my family and i wil...      1\n",
              "2               2  @msignorile immunizations should be mandatory....      2\n",
              "3               3  president obama spoke in favor of vaccination ...      0\n",
              "4               4  \"@myfoxla: arizona monitoring hundreds for mea...      0\n",
              "...           ...                                                ...    ...\n",
              "15971       15971  @salon if u believe the anti-vax nutcases caus...      1\n",
              "15972       15972  how do you feel about parents who don't #vacci...      0\n",
              "15973       15973  70 preschoolers tested for measles in simi val...      0\n",
              "15974       15974  finance minister: budget offers room to procur...      0\n",
              "15975       15975  are you up to date on vaccines? take cdc’s vac...      2\n",
              "\n",
              "[15976 rows x 3 columns]"
            ]
          },
          "metadata": {},
          "execution_count": 29
        }
      ]
    },
    {
      "cell_type": "code",
      "metadata": {
        "colab": {
          "base_uri": "https://localhost:8080/",
          "height": 423
        },
        "id": "kpMeiArMuFkq",
        "outputId": "1b58aef8-3f5f-4650-fd88-3fb3f1236218"
      },
      "source": [
        "validDf['tweet'] = validDf['tweet'].str.lower()\n",
        "validDf"
      ],
      "execution_count": 30,
      "outputs": [
        {
          "output_type": "execute_result",
          "data": {
            "text/html": [
              "<div>\n",
              "<style scoped>\n",
              "    .dataframe tbody tr th:only-of-type {\n",
              "        vertical-align: middle;\n",
              "    }\n",
              "\n",
              "    .dataframe tbody tr th {\n",
              "        vertical-align: top;\n",
              "    }\n",
              "\n",
              "    .dataframe thead th {\n",
              "        text-align: right;\n",
              "    }\n",
              "</style>\n",
              "<table border=\"1\" class=\"dataframe\">\n",
              "  <thead>\n",
              "    <tr style=\"text-align: right;\">\n",
              "      <th></th>\n",
              "      <th>Unnamed: 0</th>\n",
              "      <th>tweet</th>\n",
              "      <th>label</th>\n",
              "    </tr>\n",
              "  </thead>\n",
              "  <tbody>\n",
              "    <tr>\n",
              "      <th>0</th>\n",
              "      <td>0</td>\n",
              "      <td>@user they had a massive surge in with covid d...</td>\n",
              "      <td>1</td>\n",
              "    </tr>\n",
              "    <tr>\n",
              "      <th>1</th>\n",
              "      <td>1</td>\n",
              "      <td>required vaccines for school: parents and guar...</td>\n",
              "      <td>0</td>\n",
              "    </tr>\n",
              "    <tr>\n",
              "      <th>2</th>\n",
              "      <td>2</td>\n",
              "      <td>“@kcstar: two more johnson county children hav...</td>\n",
              "      <td>0</td>\n",
              "    </tr>\n",
              "    <tr>\n",
              "      <th>3</th>\n",
              "      <td>3</td>\n",
              "      <td>nv can do better. which states are the best (a...</td>\n",
              "      <td>2</td>\n",
              "    </tr>\n",
              "    <tr>\n",
              "      <th>4</th>\n",
              "      <td>4</td>\n",
              "      <td>nothing like killing ourselves w/ our own fear...</td>\n",
              "      <td>2</td>\n",
              "    </tr>\n",
              "    <tr>\n",
              "      <th>...</th>\n",
              "      <td>...</td>\n",
              "      <td>...</td>\n",
              "      <td>...</td>\n",
              "    </tr>\n",
              "    <tr>\n",
              "      <th>2277</th>\n",
              "      <td>2277</td>\n",
              "      <td>rt @abc7: number of measles cases reported in ...</td>\n",
              "      <td>0</td>\n",
              "    </tr>\n",
              "    <tr>\n",
              "      <th>2278</th>\n",
              "      <td>2278</td>\n",
              "      <td>evidence points to the idea that \"measles affe...</td>\n",
              "      <td>0</td>\n",
              "    </tr>\n",
              "    <tr>\n",
              "      <th>2279</th>\n",
              "      <td>2279</td>\n",
              "      <td>where's @savedyouaclick \"@voxdotcom: why you s...</td>\n",
              "      <td>2</td>\n",
              "    </tr>\n",
              "    <tr>\n",
              "      <th>2280</th>\n",
              "      <td>2280</td>\n",
              "      <td>some of my favorite people have autism. if tha...</td>\n",
              "      <td>2</td>\n",
              "    </tr>\n",
              "    <tr>\n",
              "      <th>2281</th>\n",
              "      <td>2281</td>\n",
              "      <td>coronavirus: the married couple behind the suc...</td>\n",
              "      <td>0</td>\n",
              "    </tr>\n",
              "  </tbody>\n",
              "</table>\n",
              "<p>2282 rows × 3 columns</p>\n",
              "</div>"
            ],
            "text/plain": [
              "      Unnamed: 0                                              tweet  label\n",
              "0              0  @user they had a massive surge in with covid d...      1\n",
              "1              1  required vaccines for school: parents and guar...      0\n",
              "2              2  “@kcstar: two more johnson county children hav...      0\n",
              "3              3  nv can do better. which states are the best (a...      2\n",
              "4              4  nothing like killing ourselves w/ our own fear...      2\n",
              "...          ...                                                ...    ...\n",
              "2277        2277  rt @abc7: number of measles cases reported in ...      0\n",
              "2278        2278  evidence points to the idea that \"measles affe...      0\n",
              "2279        2279  where's @savedyouaclick \"@voxdotcom: why you s...      2\n",
              "2280        2280  some of my favorite people have autism. if tha...      2\n",
              "2281        2281  coronavirus: the married couple behind the suc...      0\n",
              "\n",
              "[2282 rows x 3 columns]"
            ]
          },
          "metadata": {},
          "execution_count": 30
        }
      ]
    },
    {
      "cell_type": "markdown",
      "metadata": {
        "id": "pZkn8KOposXV"
      },
      "source": [
        "- ### *Delete all punctuation, urls  and characters like “\\n”, “\\u0111”*"
      ]
    },
    {
      "cell_type": "markdown",
      "metadata": {
        "id": "WfX3ZihFozxI"
      },
      "source": [
        "Πάρθηκαν ιδέες και παραδείγματα από τα παρακάτω link:\n",
        "\n",
        "url detection from https://www.w3resource.com/python-exercises/re/python-re-exercise-42.php\n",
        "/+a-z0-9 detection from https://stackoverflow.com/questions/37813152/replace-words-starting-with-a-backslash-in-python\n",
        "rest /+ and punctuation from https://stackoverflow.com/questions/21672514/replacing-punctuation-in-a-data-frame-based-on-punctuation-list"
      ]
    },
    {
      "cell_type": "code",
      "metadata": {
        "colab": {
          "base_uri": "https://localhost:8080/",
          "height": 423
        },
        "id": "Q_Trgh5zos-m",
        "outputId": "eafa470a-be29-4f62-8b4c-3d77f9d15c8f"
      },
      "source": [
        "trainDf['tweet'] = trainDf['tweet'].str.replace('http[s]?://(?:[a-zA-Z]|[0-9]|[$-_@.&+]|[!*\\(\\),]|(?:%[0-9a-fA-F][0-9a-fA-F]))+','', regex=True)\n",
        "trainDf['tweet'] = trainDf['tweet'].str.replace(r'\\\\+\\w+', '', regex=True)\n",
        "trainDf['tweet'] = trainDf['tweet'].str.replace('[^\\w\\s]', '', regex=True)\n",
        "trainDf"
      ],
      "execution_count": 31,
      "outputs": [
        {
          "output_type": "execute_result",
          "data": {
            "text/html": [
              "<div>\n",
              "<style scoped>\n",
              "    .dataframe tbody tr th:only-of-type {\n",
              "        vertical-align: middle;\n",
              "    }\n",
              "\n",
              "    .dataframe tbody tr th {\n",
              "        vertical-align: top;\n",
              "    }\n",
              "\n",
              "    .dataframe thead th {\n",
              "        text-align: right;\n",
              "    }\n",
              "</style>\n",
              "<table border=\"1\" class=\"dataframe\">\n",
              "  <thead>\n",
              "    <tr style=\"text-align: right;\">\n",
              "      <th></th>\n",
              "      <th>Unnamed: 0</th>\n",
              "      <th>tweet</th>\n",
              "      <th>label</th>\n",
              "    </tr>\n",
              "  </thead>\n",
              "  <tbody>\n",
              "    <tr>\n",
              "      <th>0</th>\n",
              "      <td>0</td>\n",
              "      <td>sip n shop come thru right now marjais popular...</td>\n",
              "      <td>0</td>\n",
              "    </tr>\n",
              "    <tr>\n",
              "      <th>1</th>\n",
              "      <td>1</td>\n",
              "      <td>i dont know about you but my family and i will...</td>\n",
              "      <td>1</td>\n",
              "    </tr>\n",
              "    <tr>\n",
              "      <th>2</th>\n",
              "      <td>2</td>\n",
              "      <td>msignorile immunizations should be mandatory p...</td>\n",
              "      <td>2</td>\n",
              "    </tr>\n",
              "    <tr>\n",
              "      <th>3</th>\n",
              "      <td>3</td>\n",
              "      <td>president obama spoke in favor of vaccination ...</td>\n",
              "      <td>0</td>\n",
              "    </tr>\n",
              "    <tr>\n",
              "      <th>4</th>\n",
              "      <td>4</td>\n",
              "      <td>myfoxla arizona monitoring hundreds for measle...</td>\n",
              "      <td>0</td>\n",
              "    </tr>\n",
              "    <tr>\n",
              "      <th>...</th>\n",
              "      <td>...</td>\n",
              "      <td>...</td>\n",
              "      <td>...</td>\n",
              "    </tr>\n",
              "    <tr>\n",
              "      <th>15971</th>\n",
              "      <td>15971</td>\n",
              "      <td>salon if u believe the antivax nutcases caused...</td>\n",
              "      <td>1</td>\n",
              "    </tr>\n",
              "    <tr>\n",
              "      <th>15972</th>\n",
              "      <td>15972</td>\n",
              "      <td>how do you feel about parents who dont vaccina...</td>\n",
              "      <td>0</td>\n",
              "    </tr>\n",
              "    <tr>\n",
              "      <th>15973</th>\n",
              "      <td>15973</td>\n",
              "      <td>70 preschoolers tested for measles in simi val...</td>\n",
              "      <td>0</td>\n",
              "    </tr>\n",
              "    <tr>\n",
              "      <th>15974</th>\n",
              "      <td>15974</td>\n",
              "      <td>finance minister budget offers room to procure...</td>\n",
              "      <td>0</td>\n",
              "    </tr>\n",
              "    <tr>\n",
              "      <th>15975</th>\n",
              "      <td>15975</td>\n",
              "      <td>are you up to date on vaccines take cdcs vacci...</td>\n",
              "      <td>2</td>\n",
              "    </tr>\n",
              "  </tbody>\n",
              "</table>\n",
              "<p>15976 rows × 3 columns</p>\n",
              "</div>"
            ],
            "text/plain": [
              "       Unnamed: 0                                              tweet  label\n",
              "0               0  sip n shop come thru right now marjais popular...      0\n",
              "1               1  i dont know about you but my family and i will...      1\n",
              "2               2  msignorile immunizations should be mandatory p...      2\n",
              "3               3  president obama spoke in favor of vaccination ...      0\n",
              "4               4  myfoxla arizona monitoring hundreds for measle...      0\n",
              "...           ...                                                ...    ...\n",
              "15971       15971  salon if u believe the antivax nutcases caused...      1\n",
              "15972       15972  how do you feel about parents who dont vaccina...      0\n",
              "15973       15973  70 preschoolers tested for measles in simi val...      0\n",
              "15974       15974  finance minister budget offers room to procure...      0\n",
              "15975       15975  are you up to date on vaccines take cdcs vacci...      2\n",
              "\n",
              "[15976 rows x 3 columns]"
            ]
          },
          "metadata": {},
          "execution_count": 31
        }
      ]
    },
    {
      "cell_type": "code",
      "metadata": {
        "colab": {
          "base_uri": "https://localhost:8080/",
          "height": 423
        },
        "id": "tjduHmqGuP3y",
        "outputId": "895affa6-5c86-4028-f7f3-d19129d1a81c"
      },
      "source": [
        "validDf['tweet'] = validDf['tweet'].str.replace('http[s]?://(?:[a-zA-Z]|[0-9]|[$-_@.&+]|[!*\\(\\),]|(?:%[0-9a-fA-F][0-9a-fA-F]))+','', regex=True)\n",
        "validDf['tweet'] = validDf['tweet'].str.replace(r'\\\\+\\w+', '', regex=True)\n",
        "validDf['tweet'] = validDf['tweet'].str.replace('[^\\w\\s]', '', regex=True)\n",
        "validDf"
      ],
      "execution_count": 32,
      "outputs": [
        {
          "output_type": "execute_result",
          "data": {
            "text/html": [
              "<div>\n",
              "<style scoped>\n",
              "    .dataframe tbody tr th:only-of-type {\n",
              "        vertical-align: middle;\n",
              "    }\n",
              "\n",
              "    .dataframe tbody tr th {\n",
              "        vertical-align: top;\n",
              "    }\n",
              "\n",
              "    .dataframe thead th {\n",
              "        text-align: right;\n",
              "    }\n",
              "</style>\n",
              "<table border=\"1\" class=\"dataframe\">\n",
              "  <thead>\n",
              "    <tr style=\"text-align: right;\">\n",
              "      <th></th>\n",
              "      <th>Unnamed: 0</th>\n",
              "      <th>tweet</th>\n",
              "      <th>label</th>\n",
              "    </tr>\n",
              "  </thead>\n",
              "  <tbody>\n",
              "    <tr>\n",
              "      <th>0</th>\n",
              "      <td>0</td>\n",
              "      <td>user they had a massive surge in with covid de...</td>\n",
              "      <td>1</td>\n",
              "    </tr>\n",
              "    <tr>\n",
              "      <th>1</th>\n",
              "      <td>1</td>\n",
              "      <td>required vaccines for school parents and guard...</td>\n",
              "      <td>0</td>\n",
              "    </tr>\n",
              "    <tr>\n",
              "      <th>2</th>\n",
              "      <td>2</td>\n",
              "      <td>kcstar two more johnson county children have m...</td>\n",
              "      <td>0</td>\n",
              "    </tr>\n",
              "    <tr>\n",
              "      <th>3</th>\n",
              "      <td>3</td>\n",
              "      <td>nv can do better which states are the best and...</td>\n",
              "      <td>2</td>\n",
              "    </tr>\n",
              "    <tr>\n",
              "      <th>4</th>\n",
              "      <td>4</td>\n",
              "      <td>nothing like killing ourselves w our own fear ...</td>\n",
              "      <td>2</td>\n",
              "    </tr>\n",
              "    <tr>\n",
              "      <th>...</th>\n",
              "      <td>...</td>\n",
              "      <td>...</td>\n",
              "      <td>...</td>\n",
              "    </tr>\n",
              "    <tr>\n",
              "      <th>2277</th>\n",
              "      <td>2277</td>\n",
              "      <td>rt abc7 number of measles cases reported in ca...</td>\n",
              "      <td>0</td>\n",
              "    </tr>\n",
              "    <tr>\n",
              "      <th>2278</th>\n",
              "      <td>2278</td>\n",
              "      <td>evidence points to the idea that measles affec...</td>\n",
              "      <td>0</td>\n",
              "    </tr>\n",
              "    <tr>\n",
              "      <th>2279</th>\n",
              "      <td>2279</td>\n",
              "      <td>wheres savedyouaclick voxdotcom why you should...</td>\n",
              "      <td>2</td>\n",
              "    </tr>\n",
              "    <tr>\n",
              "      <th>2280</th>\n",
              "      <td>2280</td>\n",
              "      <td>some of my favorite people have autism if that...</td>\n",
              "      <td>2</td>\n",
              "    </tr>\n",
              "    <tr>\n",
              "      <th>2281</th>\n",
              "      <td>2281</td>\n",
              "      <td>coronavirus the married couple behind the succ...</td>\n",
              "      <td>0</td>\n",
              "    </tr>\n",
              "  </tbody>\n",
              "</table>\n",
              "<p>2282 rows × 3 columns</p>\n",
              "</div>"
            ],
            "text/plain": [
              "      Unnamed: 0                                              tweet  label\n",
              "0              0  user they had a massive surge in with covid de...      1\n",
              "1              1  required vaccines for school parents and guard...      0\n",
              "2              2  kcstar two more johnson county children have m...      0\n",
              "3              3  nv can do better which states are the best and...      2\n",
              "4              4  nothing like killing ourselves w our own fear ...      2\n",
              "...          ...                                                ...    ...\n",
              "2277        2277  rt abc7 number of measles cases reported in ca...      0\n",
              "2278        2278  evidence points to the idea that measles affec...      0\n",
              "2279        2279  wheres savedyouaclick voxdotcom why you should...      2\n",
              "2280        2280  some of my favorite people have autism if that...      2\n",
              "2281        2281  coronavirus the married couple behind the succ...      0\n",
              "\n",
              "[2282 rows x 3 columns]"
            ]
          },
          "metadata": {},
          "execution_count": 32
        }
      ]
    },
    {
      "cell_type": "markdown",
      "metadata": {
        "id": "ULYseI-G_TuI"
      },
      "source": [
        "## __Learning Curves__"
      ]
    },
    {
      "cell_type": "markdown",
      "metadata": {
        "id": "dWL088hi-PH9"
      },
      "source": [
        "Πάρθηκαν ιδέες και παραδείγματα από τα παρακάτω link:\n",
        "\n",
        "https://scikit-learn.org/stable/auto_examples/model_selection/plot_learning_curve.html\n",
        "\n",
        "Επιπλέον, η επιλογή το scoring f1_weighted έγινε από τα σχόλια συναδέλφων στο piazza."
      ]
    },
    {
      "cell_type": "code",
      "metadata": {
        "id": "Db7pI3ET_aJl"
      },
      "source": [
        "def plot_learning_curve(\n",
        "    estimator,\n",
        "    title,\n",
        "    X,\n",
        "    y,\n",
        "    axes=None,\n",
        "    cv=5,\n",
        "    n_jobs=None,\n",
        "    train_sizes=[100, 250, 500, 1000, 2000, 4000, 8000],\n",
        "):\n",
        "    axes.set_title(title)\n",
        "    axes.set_xlabel(\"Training examples\")\n",
        "    axes.set_ylabel(\"Score\")\n",
        "    itrain_sizes, train_scores, validation_scores = learning_curve(\n",
        "    estimator = estimator,\n",
        "    X = X,\n",
        "    y = y, train_sizes = train_sizes, cv = cv,\n",
        "    scoring='f1_weighted')\n",
        "\n",
        "    train_scores_mean = np.mean(train_scores, axis=1)\n",
        "    train_scores_std = np.std(train_scores, axis=1)\n",
        "    test_scores_mean = np.mean(validation_scores, axis=1)\n",
        "    test_scores_std = np.std(validation_scores, axis=1)\n",
        "\n",
        "    # Plot learning curve\n",
        "    axes.grid()\n",
        "    axes.fill_between(\n",
        "        train_sizes,\n",
        "        train_scores_mean - train_scores_std,\n",
        "        train_scores_mean + train_scores_std,\n",
        "        alpha=0.1,\n",
        "        color=\"r\",\n",
        "    )\n",
        "    axes.fill_between(\n",
        "        train_sizes,\n",
        "        test_scores_mean - test_scores_std,\n",
        "        test_scores_mean + test_scores_std,\n",
        "        alpha=0.1,\n",
        "        color=\"g\",\n",
        "    )\n",
        "    axes.plot(\n",
        "        train_sizes, train_scores_mean, \"o-\", color=\"r\", label=\"Training score\"\n",
        "    )\n",
        "    axes.plot(\n",
        "        train_sizes, test_scores_mean, \"o-\", color=\"g\", label=\"Cross-validation score\"\n",
        "    )\n",
        "    axes.legend(loc=\"best\")\n",
        "    return plt"
      ],
      "execution_count": 33,
      "outputs": []
    },
    {
      "cell_type": "markdown",
      "metadata": {
        "id": "ueeEqo_JSOh2"
      },
      "source": [
        "## __Classification__"
      ]
    },
    {
      "cell_type": "code",
      "metadata": {
        "id": "A7wbSUXzSQ5u"
      },
      "source": [
        "def SoftmaxRegression(trainX, trainY, testX, testY, labelEncoder):\n",
        "    \"\"\"\n",
        "    Classify the text using the Softmax Regression classifier of scikit-learn    \n",
        "    \"\"\"\n",
        "\n",
        "    softReg = LogisticRegression(multi_class = 'multinomial', max_iter=1000, solver = 'lbfgs')\n",
        "    softReg.fit(trainX,trainY)\n",
        "    \n",
        "    # Predict test set\n",
        "    predY = softReg.predict(testX)\n",
        "    return softReg, predY"
      ],
      "execution_count": 34,
      "outputs": []
    },
    {
      "cell_type": "markdown",
      "metadata": {
        "id": "2L_5dL7fKezj"
      },
      "source": [
        "## __Precision__"
      ]
    },
    {
      "cell_type": "code",
      "metadata": {
        "id": "yRlKZ7lAK2gB"
      },
      "source": [
        "def precision(y_true, y_pred):\n",
        "  return precision_score(y_true, y_pred, average='weighted')"
      ],
      "execution_count": 35,
      "outputs": []
    },
    {
      "cell_type": "markdown",
      "metadata": {
        "id": "EZA3JFDOKpEz"
      },
      "source": [
        "## __Recall__"
      ]
    },
    {
      "cell_type": "code",
      "metadata": {
        "id": "UD7W7OBgLD5K"
      },
      "source": [
        "def recall(y_true, y_pred):\n",
        "  return recall_score(y_true, y_pred, average='weighted')"
      ],
      "execution_count": 36,
      "outputs": []
    },
    {
      "cell_type": "markdown",
      "metadata": {
        "id": "ys1ar89zKxtx"
      },
      "source": [
        "## __F-measure__"
      ]
    },
    {
      "cell_type": "code",
      "metadata": {
        "id": "lkgMwgbLLMjR"
      },
      "source": [
        "def fMeasure(y_true, y_pred):\n",
        "  return f1_score(y_true, y_pred, average='weighted')"
      ],
      "execution_count": 37,
      "outputs": []
    },
    {
      "cell_type": "markdown",
      "metadata": {
        "id": "Iy1e4Gf7RDAX"
      },
      "source": [
        "## __Vectorization__"
      ]
    },
    {
      "cell_type": "code",
      "metadata": {
        "id": "I8hjrCTaRH2C"
      },
      "source": [
        "# build label encoder for Insults\n",
        "le = preprocessing.LabelEncoder()\n",
        "le.fit(trainDf['label'])\n",
        "\n",
        "# transform Insults into numbers\n",
        "trainY = le.transform(trainDf['label'])\n",
        "validY = le.transform(validDf['label'])\n",
        "\n",
        "evaluation = dict()"
      ],
      "execution_count": 38,
      "outputs": []
    },
    {
      "cell_type": "markdown",
      "metadata": {
        "id": "Hvn7PFrywRTr"
      },
      "source": [
        "- #### Bag-of-words vectorization"
      ]
    },
    {
      "cell_type": "code",
      "metadata": {
        "id": "ZJ0ZiCRTwUwW",
        "colab": {
          "base_uri": "https://localhost:8080/",
          "height": 639
        },
        "outputId": "eadbcd4d-7c1c-4aec-e8ef-ca8cceb332bb"
      },
      "source": [
        "bowVectorizer = CountVectorizer()\n",
        "\n",
        "trainX = bowVectorizer.fit_transform(trainDf['tweet'])\n",
        "validX = bowVectorizer.transform(validDf['tweet'])\n",
        "\n",
        "softReg, predY = SoftmaxRegression(trainX, trainY, validX, validY, le)\n",
        "evaluation[\"BOW-Precision\"] = precision(validY, predY)\n",
        "evaluation[\"BOW-Recall\"] = precision(validY, predY)\n",
        "evaluation[\"BOW-FMeasure\"] = precision(validY, predY)\n",
        "\n",
        "fig, axes = plt.subplots(1, 1, figsize=(10, 10))\n",
        "title = \"BoW\"\n",
        "plot_learning_curve(\n",
        "  softReg, title, trainX, trainY, axes=axes, n_jobs=4\n",
        ")\n"
      ],
      "execution_count": 39,
      "outputs": [
        {
          "output_type": "execute_result",
          "data": {
            "text/plain": [
              "<module 'matplotlib.pyplot' from '/usr/local/lib/python3.7/dist-packages/matplotlib/pyplot.py'>"
            ]
          },
          "metadata": {},
          "execution_count": 39
        },
        {
          "output_type": "display_data",
          "data": {
            "image/png": "[encoded data removed]",
            "text/plain": [
              "<Figure size 720x720 with 1 Axes>"
            ]
          },
          "metadata": {
            "needs_background": "light"
          }
        }
      ]
    },
    {
      "cell_type": "markdown",
      "metadata": {
        "id": "gZF5fKR4MlbR"
      },
      "source": [
        "- #### HashingVectorizer"
      ]
    },
    {
      "cell_type": "code",
      "metadata": {
        "id": "35f5J3QHMxuN",
        "colab": {
          "base_uri": "https://localhost:8080/",
          "height": 639
        },
        "outputId": "a2b463e2-9513-4283-a7a6-88bdb6a47c90"
      },
      "source": [
        "hashVectorizer = HashingVectorizer()\n",
        "\n",
        "trainX = hashVectorizer.fit_transform(trainDf['tweet'])\n",
        "validX = hashVectorizer.transform(validDf['tweet'])\n",
        "\n",
        "softReg, predY = SoftmaxRegression(trainX, trainY, validX, validY, le)\n",
        "evaluation[\"Hash-Precision\"] = precision(validY, predY)\n",
        "evaluation[\"Hash-Recall\"] = precision(validY, predY)\n",
        "evaluation[\"Hash-FMeasure\"] = precision(validY, predY)\n",
        "\n",
        "fig, axes2 = plt.subplots(1, 1, figsize=(10, 10))\n",
        "title = \"Hash\"\n",
        "plot_learning_curve(\n",
        "  softReg, title, trainX, trainY, axes=axes2, n_jobs=4\n",
        ")"
      ],
      "execution_count": 40,
      "outputs": [
        {
          "output_type": "execute_result",
          "data": {
            "text/plain": [
              "<module 'matplotlib.pyplot' from '/usr/local/lib/python3.7/dist-packages/matplotlib/pyplot.py'>"
            ]
          },
          "metadata": {},
          "execution_count": 40
        },
        {
          "output_type": "display_data",
          "data": {
            "image/png": "[encoded data removed]",
            "text/plain": [
              "<Figure size 720x720 with 1 Axes>"
            ]
          },
          "metadata": {
            "needs_background": "light"
          }
        }
      ]
    },
    {
      "cell_type": "markdown",
      "metadata": {
        "id": "1TwUD6xcMOyu"
      },
      "source": [
        "- #### Tf-idf vectorization"
      ]
    },
    {
      "cell_type": "code",
      "metadata": {
        "id": "-l3vdyz7MQw4",
        "colab": {
          "base_uri": "https://localhost:8080/",
          "height": 639
        },
        "outputId": "c4b48b11-90cf-48c1-ab89-f0cb5fb70e32"
      },
      "source": [
        "tfIdfVectorizer = TfidfVectorizer()\n",
        "\n",
        "trainX = tfIdfVectorizer.fit_transform(trainDf['tweet'])\n",
        "validX = tfIdfVectorizer.transform(validDf['tweet'])\n",
        "\n",
        "softReg, predY = SoftmaxRegression(trainX, trainY, validX, validY, le)\n",
        "evaluation[\"Tfidf-Precision\"] = precision(validY, predY)\n",
        "evaluation[\"Tfidf-Recall\"] = precision(validY, predY)\n",
        "evaluation[\"Tfidf-FMeasure\"] = precision(validY, predY)\n",
        "\n",
        "fig, axes3 = plt.subplots(1, 1, figsize=(10, 10))\n",
        "title = \"TfIdf\"\n",
        "plot_learning_curve(\n",
        "  softReg, title, trainX, trainY, axes=axes3, n_jobs=4\n",
        ")"
      ],
      "execution_count": 41,
      "outputs": [
        {
          "output_type": "execute_result",
          "data": {
            "text/plain": [
              "<module 'matplotlib.pyplot' from '/usr/local/lib/python3.7/dist-packages/matplotlib/pyplot.py'>"
            ]
          },
          "metadata": {},
          "execution_count": 41
        },
        {
          "output_type": "display_data",
          "data": {
            "image/png": "[encoded data removed]",
            "text/plain": [
              "<Figure size 720x720 with 1 Axes>"
            ]
          },
          "metadata": {
            "needs_background": "light"
          }
        }
      ]
    },
    {
      "cell_type": "markdown",
      "metadata": {
        "id": "USNAT6th-0g6"
      },
      "source": [
        "## __Validation Scores__"
      ]
    },
    {
      "cell_type": "code",
      "metadata": {
        "colab": {
          "base_uri": "https://localhost:8080/",
          "height": 143
        },
        "id": "EBdBuXezbadF",
        "outputId": "fe312b6a-d241-4282-c7b8-37b570f80992"
      },
      "source": [
        "resultsData = {r'Softmax Regression': ['Bag Of Words - Count Vectorizer', 'Hashing Vectorizer', 'TF-ID FVectorizer'],  \n",
        "               'Precision': [evaluation['BOW-Precision'], evaluation['Hash-Precision'], evaluation['Tfidf-Precision']],\n",
        "               'Recall': [evaluation['BOW-Recall'], evaluation['Hash-Recall'], evaluation['Tfidf-Recall']],\n",
        "               'F1 Measure': [evaluation['BOW-FMeasure'], evaluation['Hash-FMeasure'], evaluation['Tfidf-FMeasure']]}\n",
        "resultsDataFrame = pd.DataFrame(data=resultsData)\n",
        "resultsDataFrame"
      ],
      "execution_count": 42,
      "outputs": [
        {
          "output_type": "execute_result",
          "data": {
            "text/html": [
              "<div>\n",
              "<style scoped>\n",
              "    .dataframe tbody tr th:only-of-type {\n",
              "        vertical-align: middle;\n",
              "    }\n",
              "\n",
              "    .dataframe tbody tr th {\n",
              "        vertical-align: top;\n",
              "    }\n",
              "\n",
              "    .dataframe thead th {\n",
              "        text-align: right;\n",
              "    }\n",
              "</style>\n",
              "<table border=\"1\" class=\"dataframe\">\n",
              "  <thead>\n",
              "    <tr style=\"text-align: right;\">\n",
              "      <th></th>\n",
              "      <th>Softmax Regression</th>\n",
              "      <th>Precision</th>\n",
              "      <th>Recall</th>\n",
              "      <th>F1 Measure</th>\n",
              "    </tr>\n",
              "  </thead>\n",
              "  <tbody>\n",
              "    <tr>\n",
              "      <th>0</th>\n",
              "      <td>Bag Of Words - Count Vectorizer</td>\n",
              "      <td>0.709290</td>\n",
              "      <td>0.709290</td>\n",
              "      <td>0.709290</td>\n",
              "    </tr>\n",
              "    <tr>\n",
              "      <th>1</th>\n",
              "      <td>Hashing Vectorizer</td>\n",
              "      <td>0.706896</td>\n",
              "      <td>0.706896</td>\n",
              "      <td>0.706896</td>\n",
              "    </tr>\n",
              "    <tr>\n",
              "      <th>2</th>\n",
              "      <td>TF-ID FVectorizer</td>\n",
              "      <td>0.713261</td>\n",
              "      <td>0.713261</td>\n",
              "      <td>0.713261</td>\n",
              "    </tr>\n",
              "  </tbody>\n",
              "</table>\n",
              "</div>"
            ],
            "text/plain": [
              "                Softmax Regression  Precision    Recall  F1 Measure\n",
              "0  Bag Of Words - Count Vectorizer   0.709290  0.709290    0.709290\n",
              "1               Hashing Vectorizer   0.706896  0.706896    0.706896\n",
              "2                TF-ID FVectorizer   0.713261  0.713261    0.713261"
            ]
          },
          "metadata": {},
          "execution_count": 42
        }
      ]
    }
  ]
}